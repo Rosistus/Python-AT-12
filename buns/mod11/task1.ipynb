{
  "nbformat": 4,
  "nbformat_minor": 0,
  "metadata": {
    "colab": {
      "provenance": []
    },
    "kernelspec": {
      "display_name": "Python 3",
      "language": "python",
      "name": "python3"
    },
    "language_info": {
      "codemirror_mode": {
        "name": "ipython",
        "version": 3
      },
      "file_extension": ".py",
      "mimetype": "text/x-python",
      "name": "python",
      "nbconvert_exporter": "python",
      "pygments_lexer": "ipython3",
      "version": "3.7.3"
    }
  },
  "cells": [
    {
      "cell_type": "markdown",
      "metadata": {
        "id": "5_eFZpeoK7k2"
      },
      "source": [
        "# Numpy\n",
        "### Если задания покажутся сложными, рекомендую пройти краткий курс по основам numpy [ссылка1](https://stepik.org/lesson/241329/step/1?unit=213910), [ссылка2](https://stepik.org/lesson/16462/step/1?unit=4283)"
      ]
    },
    {
      "cell_type": "code",
      "metadata": {
        "id": "YEJ8DQ4QK7kx"
      },
      "source": [
        "import numpy as np\n",
        "import random\n",
        "import scipy.stats as sps\n",
        "import cv2\n"
      ],
      "execution_count": null,
      "outputs": []
    },
    {
      "cell_type": "markdown",
      "metadata": {
        "id": "hYXhVX0eK7k2"
      },
      "source": [
        "### Задание 1\n",
        "В первой задаче вам предлагается перемножить две квадратные матрицы двумя способами -- без использования пакета ***numpy*** и с ним."
      ]
    },
    {
      "cell_type": "code",
      "metadata": {
        "id": "zJR8EANzK7k3",
        "colab": {
          "base_uri": "https://localhost:8080/"
        },
        "outputId": "6816b6af-0f0c-4c2b-84ec-03361a328dbe"
      },
      "source": [
        "# Для генерации матриц используем фукнцию random -- она используется для генерации случайных объектов\n",
        "# функция sample создает случайную выборку. В качестве аргумента ей передается кортеж (i,j),\n",
        "# здесь i -- число строк, j -- число столбцов.\n",
        "a = np.random.sample((100, 100))\n",
        "b = np.random.sample((100, 100))\n",
        "# выведите размерность (ранг) каждой матрицы с помощью функции ndim.\n",
        "# Используйте функцию shape, что она вывела?\n",
        "# ========\n",
        "print(\"ранг a =\",a.ndim, \"\\nранг b =\", b.ndim)\n",
        "print(\"размер матрицы a =\",a.shape,\"\\nразмер матрицы b =\",b.shape)\n",
        "# ========\n",
        "print(a)\n",
        "print(b)"
      ],
      "execution_count": null,
      "outputs": [
        {
          "output_type": "stream",
          "name": "stdout",
          "text": [
            "ранг a = 2 \n",
            "ранг b = 2\n",
            "размер матрицы a = (100, 100) \n",
            "размер матрицы b = (100, 100)\n",
            "[[0.0601249  0.1322197  0.74015383 ... 0.18649302 0.73230273 0.1776223 ]\n",
            " [0.96483791 0.72815776 0.75993378 ... 0.16903125 0.9804337  0.77915026]\n",
            " [0.69435151 0.43933829 0.40824706 ... 0.361058   0.24044668 0.58555764]\n",
            " ...\n",
            " [0.09022202 0.68498906 0.34381181 ... 0.93705687 0.84990982 0.54920608]\n",
            " [0.26149461 0.30146822 0.86629044 ... 0.17192669 0.92157678 0.46465517]\n",
            " [0.79230843 0.40785795 0.33004078 ... 0.32993793 0.0297588  0.57853094]]\n",
            "[[0.20717379 0.1006351  0.58456781 ... 0.29243006 0.72005515 0.87485747]\n",
            " [0.22918801 0.52653311 0.43028607 ... 0.11770445 0.91986578 0.95885352]\n",
            " [0.89152644 0.0930533  0.73859988 ... 0.73604286 0.10002979 0.92315162]\n",
            " ...\n",
            " [0.20682292 0.81522596 0.43430944 ... 0.97426898 0.96152186 0.0014371 ]\n",
            " [0.76391525 0.62333701 0.94450852 ... 0.99347575 0.98155309 0.11341241]\n",
            " [0.22698963 0.21429995 0.64929543 ... 0.92546069 0.24226706 0.95385652]]\n"
          ]
        }
      ]
    },
    {
      "cell_type": "markdown",
      "source": [
        "Без использования numpy"
      ],
      "metadata": {
        "id": "Ylmyxw_TQN9c"
      }
    },
    {
      "cell_type": "code",
      "metadata": {
        "id": "bkWCI4TPK7k8"
      },
      "source": [
        "def mult(a, b):\n",
        "    if len(a[0]) != len(b):\n",
        "        print(\"Ошибка - несовместимое количество строк и столбцов\")\n",
        "        return\n",
        "    else:\n",
        "        result = [[0 for _ in range(len(a[0]))] for _ in range(len(b))]\n",
        "        for i in range(len(a)):\n",
        "            for j in range(len(b[0])):\n",
        "                for o in range(len(b)):\n",
        "                    result[i][j] += a[i][o] * b[o][j]\n",
        "    return result"
      ],
      "execution_count": null,
      "outputs": []
    },
    {
      "cell_type": "markdown",
      "source": [
        "C использованием numpy"
      ],
      "metadata": {
        "id": "J6stNvzmQa61"
      }
    },
    {
      "cell_type": "code",
      "metadata": {
        "id": "IIgYD1W5K7lB"
      },
      "source": [
        "def np_mult(a, b):\n",
        "    result = np.dot(a, b)\n",
        "    return result"
      ],
      "execution_count": null,
      "outputs": []
    },
    {
      "cell_type": "code",
      "metadata": {
        "id": "tktkYzUHK7lE"
      },
      "source": [
        "%%time\n",
        "# засечем время работы функции без NumPy\n",
        "M1 = mult(a, b)"
      ],
      "execution_count": null,
      "outputs": []
    },
    {
      "cell_type": "code",
      "metadata": {
        "id": "TmD0adgHK7lK"
      },
      "source": [
        "%%time\n",
        "# засечем время работы функции с NumPy\n",
        "M2 = np_mult(a, b)"
      ],
      "execution_count": null,
      "outputs": []
    },
    {
      "cell_type": "code",
      "metadata": {
        "id": "oftqyANQK7lS"
      },
      "source": [
        "# проверим корректность\n",
        "np.abs(np.array(M1) - M2).sum()"
      ],
      "execution_count": null,
      "outputs": []
    },
    {
      "cell_type": "markdown",
      "metadata": {
        "id": "2itTyTlcaHAu"
      },
      "source": [
        "### Задание 2"
      ]
    },
    {
      "cell_type": "markdown",
      "metadata": {
        "id": "BCemQSq-aEbO"
      },
      "source": [
        "Вам подаются на вход два вектора `a` и `b` в трехмерном пространстве. Заполните их случайными числами. Реализуйте их скалярное произведение с помощью  `NumPy` и без. Засеките время работы, как это показано в заданиях выше."
      ]
    },
    {
      "cell_type": "code",
      "metadata": {
        "id": "lWhr_gPSZ9o_",
        "colab": {
          "base_uri": "https://localhost:8080/"
        },
        "outputId": "f20af010-ab2f-48a2-c86b-ad984d2826a9"
      },
      "source": [
        "a = np.random.sample((1, 3))\n",
        "a = list(a)[0]\n",
        "b = np.random.sample((1, 3))\n",
        "b = list(b)[0]\n",
        "print(a, b)"
      ],
      "execution_count": null,
      "outputs": [
        {
          "output_type": "stream",
          "name": "stdout",
          "text": [
            "[0.58845822 0.36935804 0.03491262] [0.66598661 0.75131573 0.26298963]\n"
          ]
        }
      ]
    },
    {
      "cell_type": "code",
      "metadata": {
        "id": "GjlkcHIWZ_ae"
      },
      "source": [
        "def scalar_product(a,b):\n",
        "    s = 0\n",
        "    for i in range(3):\n",
        "        s += a[i]*b[i]\n",
        "    return s"
      ],
      "execution_count": null,
      "outputs": []
    },
    {
      "cell_type": "code",
      "metadata": {
        "id": "C2M-OAp5Z_6a"
      },
      "source": [
        "def np_scalar_product(a,b):\n",
        "    s = np.dot(a,b)\n",
        "    return s"
      ],
      "execution_count": null,
      "outputs": []
    },
    {
      "cell_type": "code",
      "metadata": {
        "id": "BOQfYf-2aCQJ",
        "scrolled": true
      },
      "source": [
        "%time product_1 = scalar_product(a,b)\n",
        "%time product_2 = np_scalar_product(a,b)\n",
        "# проверим корректность:\n",
        "np.abs(product_1 - product_2).sum()"
      ],
      "execution_count": null,
      "outputs": []
    },
    {
      "cell_type": "markdown",
      "metadata": {
        "id": "NHaHu6q1K7mH"
      },
      "source": [
        "Почему методы ***numpy*** оказываются эффективнее? Что вы можете сказать о скорости вычислений в NumPy?"
      ]
    },
    {
      "cell_type": "markdown",
      "metadata": {
        "id": "_A3p2s4eK7mI"
      },
      "source": [
        "**Ответ:** Потому что нампай это узконаправленный модуль для такого рода задач и он создан чтобы эффективно их решать, иначе в нём не было бы смысла. В частности, методы в нампае реализованы на C, который сам по себе в разы быстрее питона и который в основном и используется для задач, требовательным к скорости выполнения"
      ]
    },
    {
      "cell_type": "markdown",
      "metadata": {
        "id": "StLAtJ-tQlfR"
      },
      "source": [
        "------------------"
      ]
    },
    {
      "cell_type": "markdown",
      "metadata": {
        "id": "mJXeUuznK7lm"
      },
      "source": [
        "### Задание 3\n",
        "Напишите функцию, которая находим сумму четных диагональныех элементов квадратной матрицы. Если таких элементов нет, то вывести `0`."
      ]
    },
    {
      "cell_type": "code",
      "metadata": {
        "id": "MjxKxv-bQlfW"
      },
      "source": [
        "# функция, решающая задачу с помощью NumPy\n",
        "def np_diag_2k(a):\n",
        "  res = None\n",
        "  d = np.diag(a)\n",
        "  even_d = d[d % 2 == 0]\n",
        "  if len(even_d) != 0:\n",
        "      res = np.sum(even_d)\n",
        "  else:\n",
        "      res = 0\n",
        "  return res"
      ],
      "execution_count": null,
      "outputs": []
    },
    {
      "cell_type": "code",
      "metadata": {
        "id": "h_oazhcNQlfZ",
        "colab": {
          "base_uri": "https://localhost:8080/"
        },
        "outputId": "f58e5c13-a5c6-480f-e95f-ef12a082f3ac"
      },
      "source": [
        "# зададим некоторую квадратную матрицу\n",
        "a = np.random.randint(1, 10, size=(5, 5))\n",
        "a"
      ],
      "execution_count": null,
      "outputs": [
        {
          "output_type": "execute_result",
          "data": {
            "text/plain": [
              "array([[5, 4, 5, 1, 8],\n",
              "       [3, 9, 9, 7, 1],\n",
              "       [2, 8, 7, 4, 7],\n",
              "       [7, 3, 6, 9, 8],\n",
              "       [9, 2, 2, 7, 5]])"
            ]
          },
          "metadata": {},
          "execution_count": 13
        }
      ]
    },
    {
      "cell_type": "code",
      "metadata": {
        "id": "_9jg1CuWQlfc"
      },
      "source": [
        "%%time\n",
        "# засечем время работы функции с NumPy\n",
        "np_diag_2k(a)"
      ],
      "execution_count": null,
      "outputs": []
    },
    {
      "cell_type": "markdown",
      "metadata": {
        "id": "D-N46M-tQlff"
      },
      "source": [
        "### Задание 4\n",
        "На вход дан двумерный массив $X$. Напишите функцию, которая для каждой строчки $x = (x_1, x_2, \\ldots, x_n)$ массива $X$  строит строчку $s = (s_1, s_2, \\ldots, s_n)$, где $s_k=\\frac{x_1+...+x_k}{k}$, а затем выдаёт массив из построенных строчек. Используйте библиотеку numpy (вам поможет функция cumsum). Выходом функции должен быть двумерный массив той же формы, что и $X$."
      ]
    },
    {
      "cell_type": "code",
      "metadata": {
        "id": "REgL39ksK7lr"
      },
      "source": [
        "# функция, решающая задачу с помощью NumPy\n",
        "def np_sec_av(*A):\n",
        "    result = []\n",
        "    for x in A:\n",
        "      cumsum = np.cumsum(x)\n",
        "      s = cumsum / (np.arange(len(x)) + 1)\n",
        "      result.append(s)\n",
        "    return result"
      ],
      "execution_count": null,
      "outputs": []
    },
    {
      "cell_type": "code",
      "metadata": {
        "id": "HcVN8MagK7lw"
      },
      "source": [
        "# зададим некоторую последовательность и проверим ее на ваших функциях.\n",
        "# функция должна работать ~ в 50 раз быстрее, чем без Numpy\n",
        "A = sps.uniform.rvs(size=10**3)\n",
        "print(A)\n",
        "\n",
        "%time S2 = np_sec_av(A)"
      ],
      "execution_count": null,
      "outputs": []
    },
    {
      "cell_type": "markdown",
      "metadata": {
        "id": "2InIez3ZQlfw"
      },
      "source": [
        "### Задание 5\n",
        "Написать функцию для кодирование массива (Run-length encoding). Все подряд повторения элементов функция сжимает в один элемент и считает количество повторений. Функция возвращает кортеж из двух векторов одинаковой длины. Первый содержит элементы, а второй — сколько раз их нужно повторить.\n",
        "\n",
        "Пример: encode(np.array([1, 2, 2, 3, 3, 1, 1, 5, 5, 2, 3, 3])) = (np.array[1, 2, 3, 1, 5, 2, 3]), np.array[1, 2, 2, 2, 2, 1, 2])"
      ]
    },
    {
      "cell_type": "code",
      "metadata": {
        "id": "3G4DKWeoQlfx"
      },
      "source": [
        "# функция, решающая задачу с помощью NumPy\n",
        "def np_encode(a):\n",
        "    result = None\n",
        "    encoded_elements = []\n",
        "    current = a[0]\n",
        "    counter = 1\n",
        "    counts = []\n",
        "\n",
        "    for i in range(1, len(a)):\n",
        "        if a[i] == current:\n",
        "            counter += 1\n",
        "        else:\n",
        "            encoded_elements.append(current)\n",
        "            counts.append(counter)\n",
        "            counter = 1\n",
        "            current = a[i]\n",
        "    encoded_elements.append(current)\n",
        "    counts.append(counter)\n",
        "    result = np.array(encoded_elements), np.array(counts)\n",
        "\n",
        "    return result"
      ],
      "execution_count": null,
      "outputs": []
    },
    {
      "cell_type": "code",
      "metadata": {
        "id": "zMaDQdNBQlf0"
      },
      "source": [
        "from itertools import groupby\n",
        "X = np.array([1, 2, 2, 3, 3, 1, 1, 5, 5, 2, 3, 3])\n",
        "%time x, num = np_encode(X)"
      ],
      "execution_count": null,
      "outputs": []
    },
    {
      "cell_type": "markdown",
      "metadata": {
        "id": "teVCPWZmK7l5"
      },
      "source": [
        "### Задание 6\n",
        "\n",
        "Пусть задан некоторый одномерный массив $X$. Надо построить новый массив, где все элементы с нечетными индексами требуется заменить на число $a$ (если оно не указано, то на 1). Все элементы с четными индексами нужно возвести в куб. Затем записать элементы в обратном порядке относительно их позиций. Массив $X$ при этом должен остаться *без изменений*. В конце требуется слить массив X с преобразованным X и вывести в обратном порядке.  \n",
        "\n",
        "Пример:  \n",
        "X = [100, 200, 300, 400, 500] -> [100, a, 300, a, 500] -> [500^3, a, 300^3, a, 100^3] -> склеиваем -> [100, 200, 300, 400, 500, 500^3, a, 300^3, a, 100^3]"
      ]
    },
    {
      "cell_type": "code",
      "metadata": {
        "id": "0hmcvfDVK7l-"
      },
      "source": [
        "# функция, решающая задачу с помощью NumPy\n",
        "from copy import copy\n",
        "\n",
        "def np_transformation(X, a=1):\n",
        "    result = None\n",
        "    x = copy(X)\n",
        "    for i in range(len(x)):\n",
        "        if i % 2 != 0:\n",
        "            x[i] = a\n",
        "        else:\n",
        "            x[i] = x[i]**3\n",
        "    result = np.concatenate((X, x[::-1]))\n",
        "\n",
        "    return result"
      ],
      "execution_count": null,
      "outputs": []
    },
    {
      "cell_type": "code",
      "metadata": {
        "id": "r2-JLMhxK7mE",
        "scrolled": true
      },
      "source": [
        "X = np.array([i for i in range(1, 10, 2)])\n",
        "# функция должна работать ~ в 20 раз быстрее, чем без Numpy\n",
        "%time S2 = np_transformation(X, 5)"
      ],
      "execution_count": null,
      "outputs": []
    }
  ]
}