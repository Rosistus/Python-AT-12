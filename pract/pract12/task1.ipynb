{
  "nbformat": 4,
  "nbformat_minor": 0,
  "metadata": {
    "colab": {
      "provenance": []
    },
    "kernelspec": {
      "name": "python3",
      "display_name": "Python 3"
    },
    "language_info": {
      "name": "python"
    }
  },
  "cells": [
    {
      "cell_type": "code",
      "execution_count": null,
      "metadata": {
        "id": "hiMaeA0PfE-U"
      },
      "outputs": [],
      "source": [
        "import sqlite3\n",
        "\n",
        "with sqlite3.connect('netflix.sqlite') as conn:\n",
        "    cursor = conn.cursor()\n",
        "\n",
        "    cursor.execute('''CREATE TABLE IF NOT EXISTS actors (\n",
        "                        id INTEGER PRIMARY KEY,\n",
        "                        name TEXT\n",
        "                    )''')\n",
        "\n",
        "    cursor.execute('''CREATE TABLE IF NOT EXISTS movies (\n",
        "                        movie_id INTEGER PRIMARY KEY,\n",
        "                        title TEXT\n",
        "                    )''')\n",
        "\n",
        "    cursor.execute('''CREATE TABLE IF NOT EXISTS actor_movie (\n",
        "                        actor_id INTEGER PRIMARY KEY,\n",
        "                        actor_name TEXT,\n",
        "                        movie_title TEXT,\n",
        "                        FOREIGN KEY (actor_id) REFERENCES actors(id),\n",
        "                        FOREIGN KEY (actor_name) REFERENCES actors(name),\n",
        "                        FOREIGN KEY (movie_title) REFERENCES movies(title)\n",
        "                    )''')\n",
        "\n",
        "    # Создание таблицы с фильмами\n",
        "    cursor.execute('INSERT INTO movies (movie_id, title) SELECT show_id, title FROM netflix_titles')\n",
        "\n",
        "    # Создание таблицы с артёрами\n",
        "    actors_list = []\n",
        "    for all_actors in cursor.execute(\"SELECT `cast` FROM netflix_titles\").fetchall():\n",
        "        for actors in all_actors:\n",
        "            for actor in actors.split(', '):\n",
        "                actors_list.append(actor)\n",
        "    actors_list = list(set(actors_list))\n",
        "    act_id = 0\n",
        "    for i in actors_list:\n",
        "        if len(i) > 0:\n",
        "            cursor.execute('INSERT INTO actors (id, name) VALUES (?, ?)', (act_id, i))\n",
        "            act_id += 1\n",
        "\n",
        "    # Создание таблицы актёр-фильмы\n",
        "    def dict_factory(c, row):\n",
        "        d = {}\n",
        "        for idx, col in enumerate(c.description):\n",
        "            d[col[0]] = row[idx]\n",
        "        return d\n",
        "    cursor.row_factory = dict_factory\n",
        "\n",
        "    data = cursor.execute(\"SELECT * FROM netflix_titles\").fetchall()\n",
        "    actor_movie_data = {}\n",
        "    for actor in actors_list:\n",
        "        actor_movie_data[actor] = []\n",
        "    for row in data:\n",
        "        for actor in row['cast'].split(', '):\n",
        "            actor_movie_data[actor].append(row['title'])\n",
        "\n",
        "    for actor, movies in actor_movie_data.items():\n",
        "        actor_id = cursor.execute('SELECT id FROM actors WHERE name = ?', (actor,)).fetchone()\n",
        "        if actor_id is not None:\n",
        "            cursor.execute('INSERT INTO actor_movie VALUES (?, ?, ?)', (actor_id['id'], actor, ', '.join(movies)))\n",
        "\n",
        "\n",
        "    #print(cursor.execute(\"SELECT * FROM movies\").fetchall())\n",
        "    #print(cursor.execute(\"SELECT * FROM actors\").fetchall())\n",
        "    #print(cursor.execute(\"SELECT * FROM actor_movie\").fetchall())\n",
        "    conn.commit()\n"
      ]
    }
  ]
}